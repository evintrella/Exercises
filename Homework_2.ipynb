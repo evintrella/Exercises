{
  "nbformat": 4,
  "nbformat_minor": 0,
  "metadata": {
    "colab": {
      "provenance": []
    },
    "kernelspec": {
      "name": "python3",
      "display_name": "Python 3"
    },
    "language_info": {
      "name": "python"
    }
  },
  "cells": [
    {
      "cell_type": "markdown",
      "source": [
        "#Ασκήσεις του μαθήματος \"Εισαγωγή στην Python 1 - Variables, data types (integers, floats, stings, boolean, lists, dictionaries), mathematical & comparison operators, functions & methods"
      ],
      "metadata": {
        "id": "eZ6s1jOQBAty"
      }
    },
    {
      "cell_type": "markdown",
      "source": [
        "\n",
        "\n",
        "---\n",
        "\n",
        "\n",
        "####**Άσκηση 2** (Προαιρετικά)\n",
        "\n",
        "**Try yourself**: Φτιάξτε ένα νέο κελί κώδικα (Code cell) ακριβώς κάτω από αυτό και δημιουργήστε μεταβλητές με τα στοιχεία σας:\n",
        "\n",
        "*   το μικρό σας όνομα\n",
        "*   το επίθετό σας\n",
        "*   το email σας\n",
        "*   το εξάμηνό σας\n",
        "*   τυπώστε όλα μαζί τα παραπάνω στην οθόνη"
      ],
      "metadata": {
        "id": "wiiXoX3tfVML"
      }
    },
    {
      "cell_type": "code",
      "source": [
        "name=\"Παρασκευή\"\n",
        "lname=\"Ντρέλλα\"\n",
        "mail=\"evidrella01@gmail.com\"\n",
        "semester=8\n",
        "print(name,lname,mail,semester)\n"
      ],
      "metadata": {
        "id": "BlKi0rwdceGX",
        "outputId": "5e2693b9-1f53-40d0-ead3-c121b8897674",
        "colab": {
          "base_uri": "https://localhost:8080/"
        }
      },
      "execution_count": null,
      "outputs": [
        {
          "output_type": "stream",
          "name": "stdout",
          "text": [
            "Παρασκευή Ντρέλλα evidrella01@gmail.com 8\n"
          ]
        }
      ]
    },
    {
      "cell_type": "markdown",
      "source": [
        "\n",
        "\n",
        "---\n",
        "\n",
        "####**Άσκηση 3**\n",
        "\n",
        "**Try yourself**: Φτιάξτε ένα νέο κελί κώδικα (Code cell) ακριβώς κάτω από αυτό και κάνετε τα παρακάτω:\n",
        "\n",
        "* δημιουργήστε 3 μεταβλητές, όπου η καθεμιά θα έχει τη θερμοκρασία του αέρα όπως την καταγράψαμε το πρωί, το μεσημέρι και το βράδυ\n",
        "* βρείτε το μέσο όρο των θερμοκρασιών\n",
        "* βρείτε τη μέγιστη διαφορά των θερμοκρασιών\n",
        "* δημιουργήστε μια νέα μεταβλητή που θα περιέχει την τιμή της μέσης θερμοκρασίας σε ακέραιο\n",
        "* ελέγξτε τα αποτελέσματα τυπώνοντάς τα στην οθόνη\n"
      ],
      "metadata": {
        "id": "yrhDlp7r8Jsi"
      }
    },
    {
      "cell_type": "code",
      "source": [
        "cmorn=15.3\n",
        "cnoon=18.5\n",
        "cnight=12"
      ],
      "metadata": {
        "id": "vTQ5SdVLeKMs"
      },
      "execution_count": null,
      "outputs": []
    },
    {
      "cell_type": "code",
      "source": [
        "C=[cmorn,cnoon,cnight]\n",
        "mesosoros=sum(C)/len(C)\n",
        "print(\"Ο μέσος όρος είναι\", mesosoros)"
      ],
      "metadata": {
        "id": "JdRAjifEeaQF",
        "outputId": "5e9a79b7-dcae-4467-827c-062cd6e4d678",
        "colab": {
          "base_uri": "https://localhost:8080/"
        }
      },
      "execution_count": null,
      "outputs": [
        {
          "output_type": "stream",
          "name": "stdout",
          "text": [
            "Ο μέσος όρος είναι 15.266666666666666\n"
          ]
        }
      ]
    },
    {
      "cell_type": "code",
      "source": [
        "Csorted=sorted(C)\n",
        "dif=Csorted[-1]-Csorted[0]\n",
        "print(\"H μέγιστη διαφορά των θερμοκρασιών είναι\",dif)"
      ],
      "metadata": {
        "id": "380kT9KZezBe",
        "outputId": "d8150c06-d71e-4034-bcec-67e8db1cee4e",
        "colab": {
          "base_uri": "https://localhost:8080/"
        }
      },
      "execution_count": null,
      "outputs": [
        {
          "output_type": "stream",
          "name": "stdout",
          "text": [
            "H μέγιστη διαφορά των θερμοκρασιών είναι 6.5\n"
          ]
        }
      ]
    },
    {
      "cell_type": "code",
      "source": [
        "from statistics import median\n",
        "mesitimi=median(C)\n",
        "mesitimi=int(mesitimi)\n",
        "print('Η μέση τιμή είναι',mesitimi)"
      ],
      "metadata": {
        "id": "z-M3Ah11knID",
        "outputId": "531299b0-dc3f-438f-a260-f35fc46b9528",
        "colab": {
          "base_uri": "https://localhost:8080/"
        }
      },
      "execution_count": null,
      "outputs": [
        {
          "output_type": "stream",
          "name": "stdout",
          "text": [
            "Η μέση τιμή είναι 15\n"
          ]
        }
      ]
    },
    {
      "cell_type": "markdown",
      "source": [
        "\n",
        "\n",
        "---\n",
        "\n",
        "####**Άσκηση 4**\n",
        "\n",
        "**Try yourself**: Φτιάξτε ένα νέο κελί κώδικα (Code cell) ακριβώς κάτω από αυτό και κάνετε τα παρακάτω:\n",
        "\n",
        "* δημιουργήστε μια μεταβλητή με την πόλη που μένετε και μία με το αγαπημένο σας ταξιδιωτικό προορισμό\n",
        "* ελέγξτε την ομοιότητα του τύπου των μεταβλητών\n",
        "* ελέγξτε την ισότητα των μεταβλητών\n",
        "* ελέγξτε αν η μεταβλητή της πόλης είναι μικρότερη της μεταβλητής του ταξιδιωτικού προορισμού\n",
        "\n",
        "Τι νομίζετε ότι σημαίνει ότι ένα string είναι μεγαλύτερο, μικρότερο ή ίσο με ένα άλλο; (Γράψτε την απάντησή σας σε ένα νέο text cell ή σε ένα code cell σαν σχόλιο)\n"
      ],
      "metadata": {
        "id": "pg9-mk1eTq2l"
      }
    },
    {
      "cell_type": "code",
      "source": [
        "polh=\"Alimos\"\n",
        "proorismos=\"Mhlos\"\n",
        "type(polh)==type(proorismos)\n"
      ],
      "metadata": {
        "id": "ByXjnP4mkmRL",
        "outputId": "558c3cbe-257d-42a6-cd8d-9be96688ecc7",
        "colab": {
          "base_uri": "https://localhost:8080/"
        }
      },
      "execution_count": null,
      "outputs": [
        {
          "output_type": "execute_result",
          "data": {
            "text/plain": [
              "True"
            ]
          },
          "metadata": {},
          "execution_count": 91
        }
      ]
    },
    {
      "cell_type": "code",
      "source": [
        "polh==proorismos"
      ],
      "metadata": {
        "id": "50xnYCeau_IV",
        "outputId": "6cff4f23-7835-4a8e-aec5-26ab11ee3199",
        "colab": {
          "base_uri": "https://localhost:8080/"
        }
      },
      "execution_count": null,
      "outputs": [
        {
          "output_type": "execute_result",
          "data": {
            "text/plain": [
              "False"
            ]
          },
          "metadata": {},
          "execution_count": 92
        }
      ]
    },
    {
      "cell_type": "code",
      "source": [
        "polh<proorismos"
      ],
      "metadata": {
        "id": "XKPh3awtvLDO",
        "outputId": "8d89717c-c2c5-40da-c40b-6d6246409e21",
        "colab": {
          "base_uri": "https://localhost:8080/"
        }
      },
      "execution_count": null,
      "outputs": [
        {
          "output_type": "execute_result",
          "data": {
            "text/plain": [
              "True"
            ]
          },
          "metadata": {},
          "execution_count": 94
        }
      ]
    },
    {
      "cell_type": "code",
      "source": [
        "#Η σύγκριση πάνω σε strings συγκρίνει ένα-ένα τα γράμματά τους σύμφωνα με την αλφαβητική τους σειρά."
      ],
      "metadata": {
        "id": "xbXe8tKSvti9"
      },
      "execution_count": null,
      "outputs": []
    },
    {
      "cell_type": "markdown",
      "source": [
        "\n",
        "\n",
        "---\n",
        "\n",
        "####**Άσκηση 5**\n",
        "\n",
        "**Try yourself**: Φτιάξτε ένα νέο κελί κώδικα (Code cell) ακριβώς κάτω από αυτό και κάνετε τα παρακάτω:\n",
        "\n",
        "* δημιουργήστε μια μεταβλητή με τιμή την datetime ημερομηνία δημοσίευσης ενός άρθρου: 2023-03-24T12:07:19+02:00\n",
        "* απομονώστε την ημερομηνία και αποθηκεύστε τη σε μια μεταβλητή με κατάλληλο όνομα\n",
        "* τυπώστε την ημερομηνία\n",
        "* φτιάξτε ένα νέο code cell\n",
        "* αποθηκεύστε σε διαφορετικές μεταβλητές το έτος, το μήνα και την ημέρα (**tip**: κάντε το ένα ένα και τυπώνετε για να βλέπετε αν το κάνετε σωστά)\n",
        "* φτιάξτε ένα νέο code cell\n",
        "* απομονώστε την ώρα (το 12:07:19) και αποθηκεύστε τη σε μια νέα μεταβλητή\n",
        "* φτιάξτε ένα νέο code cell\n",
        "* χρησιμοποιώντας τις μεταβλητές που φτιάξατε, δημιουργήστε μια νέα μεταβλητή με όνομα custom_daytime που θα περιέχει: <ημέρα>/<μήνας>/<έτος>, ώρα: <ώρα>\n",
        "* και τυπώστε τη στην οθόνη"
      ],
      "metadata": {
        "id": "jIk9BoTu-f05"
      }
    },
    {
      "cell_type": "code",
      "source": [
        "datetime=\"2023-03-24T12:07:19+02:00\"\n",
        "index1=datetime.index(\"T\")\n",
        "date=datetime[:index1]\n",
        "print(date)"
      ],
      "metadata": {
        "id": "ST9oipySxibi",
        "outputId": "b5365b0b-24b0-465f-b70c-db99bfb48b73",
        "colab": {
          "base_uri": "https://localhost:8080/"
        }
      },
      "execution_count": null,
      "outputs": [
        {
          "output_type": "stream",
          "name": "stdout",
          "text": [
            "2023-03-24\n"
          ]
        }
      ]
    },
    {
      "cell_type": "code",
      "source": [
        "year=date[:4]\n",
        "print(year)\n",
        "month=date[5:7]\n",
        "print(month)\n",
        "day=date[8:]\n",
        "print(day)"
      ],
      "metadata": {
        "id": "vQhTP1qozv0V",
        "colab": {
          "base_uri": "https://localhost:8080/"
        },
        "outputId": "edb23f58-2a71-4fae-ca78-eead503a9b31"
      },
      "execution_count": null,
      "outputs": [
        {
          "output_type": "stream",
          "name": "stdout",
          "text": [
            "2023\n",
            "03\n",
            "24\n"
          ]
        }
      ]
    },
    {
      "cell_type": "code",
      "source": [
        "hour=datetime[11:19]\n",
        "print(hour)"
      ],
      "metadata": {
        "colab": {
          "base_uri": "https://localhost:8080/"
        },
        "id": "gU-zy2cFTQjt",
        "outputId": "dc6bd17b-c1f1-449f-d0c2-d0f0bd96584e"
      },
      "execution_count": null,
      "outputs": [
        {
          "output_type": "stream",
          "name": "stdout",
          "text": [
            "12:07:19\n"
          ]
        }
      ]
    },
    {
      "cell_type": "code",
      "source": [
        "custom_daytime=day+\"/\"+month+\"/\"+year+\",ώρα:\"+hour\n",
        "print(custom_daytime)"
      ],
      "metadata": {
        "colab": {
          "base_uri": "https://localhost:8080/"
        },
        "id": "c1fLvxOmTzfn",
        "outputId": "213f62b8-46e3-4a71-befd-318ff2d5c7e7"
      },
      "execution_count": null,
      "outputs": [
        {
          "output_type": "stream",
          "name": "stdout",
          "text": [
            "24/03/2023,ώρα:12:07:19\n"
          ]
        }
      ]
    },
    {
      "cell_type": "markdown",
      "source": [
        "\n",
        "\n",
        "---\n",
        "\n",
        "####**Άσκηση 6**\n",
        "\n",
        "**Try yourself**: Φτιάξτε ένα νέο κελί κώδικα (Code cell) ακριβώς κάτω από αυτό και κάνετε τα παρακάτω:\n",
        "\n",
        "1. Δημιουργήστε μια κενή λίστα με όνομα usersL\n",
        "2. Φτιάξτε μια μεταβλητή με όνομα email1 και τιμή ένα email\n",
        "3. Βρείτε το index του \"@\" (με function) και αποθηκεύστε το σε μια μεταβλητή με όνομα at1\n",
        "4. Πάρτε (slice) το τμήμα του mail που έχει μόνο το όνομα, αποθηκεύστε το σε μια μεταβλητή με όνομα user1 και βάλτε το στη λίστα usersL\n",
        "5. Επαναλάβετε τα βήματα 2-4 άλλη 1 φορά (κάντε copy-paste και αλλάξτε ό,τι χρειάεται)\n",
        "6. Ταξινομήστε τα περιεχόμενα της λίστας με αύξουσα σειρά και\n",
        "7. Τυπώστε τα περιεχόμενά της στην οθόνη\n",
        "\n",
        "**Tip**: χρησιμοποιήστε όσα κελιά θέλετε έτσι ώστε να ελέγχετε τι κάνετε σε κάθε βήμα"
      ],
      "metadata": {
        "id": "_agWj9vpdYL9"
      }
    },
    {
      "cell_type": "code",
      "source": [
        "usersL=[]\n",
        "email1=(\"evidrella01@gmail.com\")"
      ],
      "metadata": {
        "id": "MRaeSh1Jzng6"
      },
      "execution_count": null,
      "outputs": []
    },
    {
      "cell_type": "code",
      "source": [
        "at1=email1.find(\"@\")\n",
        "print(at1)"
      ],
      "metadata": {
        "id": "f9c5z8Gz08SB",
        "outputId": "013b2c97-35bf-4d92-dff2-516cf95184ba",
        "colab": {
          "base_uri": "https://localhost:8080/"
        }
      },
      "execution_count": null,
      "outputs": [
        {
          "output_type": "stream",
          "name": "stdout",
          "text": [
            "11\n"
          ]
        }
      ]
    },
    {
      "cell_type": "code",
      "source": [
        "user1=email1[:at1]\n",
        "usersL.append(user1)"
      ],
      "metadata": {
        "id": "GUBGr72I1G0e"
      },
      "execution_count": null,
      "outputs": []
    },
    {
      "cell_type": "code",
      "source": [
        "email2=(\"sousamenia@gmail.com\")"
      ],
      "metadata": {
        "id": "iktyAXik3BVK"
      },
      "execution_count": null,
      "outputs": []
    },
    {
      "cell_type": "code",
      "source": [
        "at2=email2.find(\"@\")\n",
        "print(at2)"
      ],
      "metadata": {
        "id": "4HCXboCi3fJB",
        "outputId": "917730a6-c1ca-422b-fa76-b7f8be56303d",
        "colab": {
          "base_uri": "https://localhost:8080/"
        }
      },
      "execution_count": null,
      "outputs": [
        {
          "output_type": "stream",
          "name": "stdout",
          "text": [
            "10\n"
          ]
        }
      ]
    },
    {
      "cell_type": "code",
      "source": [
        "user2=email2[:at2]\n",
        "usersL.append(user2)"
      ],
      "metadata": {
        "id": "RHLcXV7_3rSf"
      },
      "execution_count": null,
      "outputs": []
    },
    {
      "cell_type": "code",
      "source": [
        "print(usersL)"
      ],
      "metadata": {
        "id": "Q_Izqvu_4H8h",
        "outputId": "ae5b1e57-47c9-4f44-db60-361060cb657a",
        "colab": {
          "base_uri": "https://localhost:8080/"
        }
      },
      "execution_count": null,
      "outputs": [
        {
          "output_type": "stream",
          "name": "stdout",
          "text": [
            "['evidrella01', 'sousamenia']\n"
          ]
        }
      ]
    },
    {
      "cell_type": "code",
      "source": [
        "usersLsorted=sorted(usersL)\n",
        "print(usersLsorted)"
      ],
      "metadata": {
        "id": "EY0Bg2k94MES",
        "outputId": "1010b047-d0b1-4f4d-e74e-f900a365bf65",
        "colab": {
          "base_uri": "https://localhost:8080/"
        }
      },
      "execution_count": null,
      "outputs": [
        {
          "output_type": "stream",
          "name": "stdout",
          "text": [
            "['evidrella01', 'sousamenia']\n"
          ]
        }
      ]
    },
    {
      "cell_type": "markdown",
      "source": [
        "\n",
        "\n",
        "---\n",
        "\n",
        "####**Άσκηση 7**\n",
        "\n",
        "**Try yourself**: Σ' αυτή την άσκηση θα φτιάξουμε μια λίστα στην οποία θα αποθηκεύουμε δίάφορα δεδομένα από άρθρα που δημοσιεύονται σε sites.\n",
        "\n",
        "Φτιάξτε ένα νέο κελί κώδικα (Code cell) ακριβώς κάτω από αυτό και κάνετε τα παρακάτω:\n",
        "\n",
        "1. Δημιουργήστε μια κενή λίστα όπου θα αποθηκεύετε τα δεδομένα των άρθρων\n",
        "2. Δημιουργήστε ένα λεξικό με τα στοιχεία του πρώτου άρθρου που θα συλλέξετε από ένα site: \"Τίτλος\", \"Ημερομηνία\", \"Κατηγορία\", \"url\"\n",
        "3. Επαναλάβετε το 2 για ακόμα ένα άρθρο\n",
        "4. Προσθέστε τα λεξικά στη λίστα.\n",
        "5. Τυπώστε στην οθόνη τον τίτλο του 2ου άρθρου\n",
        "6. Προσθέστε και στα 2 άρθρα μια εγγραφή με το όνομα του αντίστοιχου site που πήρατε το άρθρο\n",
        "7. Τυπώστε στην οθόνη το πλήθος των λεξικών που έχει η λίστα.\n",
        "\n",
        "**Tip**:Δουλέψτε τμηματικά και ελέγχετε σε κάθε βήμα αυτό που κάνετε."
      ],
      "metadata": {
        "id": "KpVX9pHLNgB6"
      }
    },
    {
      "cell_type": "code",
      "source": [
        "articles=[]"
      ],
      "metadata": {
        "id": "UqYgjYYXGAFU"
      },
      "execution_count": null,
      "outputs": []
    },
    {
      "cell_type": "code",
      "source": [
        "article1= {\"Τίτλος\":\"Πόλεμος στην Ουκρανία: Η Πολωνία παρέδωσε στο Κίεβο καταδιωκτικά MiG-29\",\n",
        "           \"Ημερομηνία\":\"03/04/2023\",\n",
        "           \"Κατηγορία\":\"Κόσμος\" ,\n",
        "           \"url\":\"https://www.protothema.gr/world/article/1356769/polemos-stin-oukrania-i-polonia-paredose-sto-kievo-katadioktika-mig-29/\"}\n"
      ],
      "metadata": {
        "id": "J8g1jmRqHdG1"
      },
      "execution_count": null,
      "outputs": []
    },
    {
      "cell_type": "code",
      "source": [
        "articles.append(article1)"
      ],
      "metadata": {
        "id": "ERHi3HjXKnwt"
      },
      "execution_count": null,
      "outputs": []
    },
    {
      "cell_type": "code",
      "source": [
        "article2= {\"Τίτλος\":\"Τσέφεριν για υπόθεση Νεγκρέιρα: «Η κατάσταση είναι πολύ σοβαρή για τη Μπαρτσελόνα»\",\n",
        "           \"Ημερομηνία\":\"03/04/2023\",\n",
        "           \"Κατηγορία\":\"Σπορ\",\n",
        "           \"url\":\"https://www.protothema.gr/sports/article/1356762/tseferin-gia-upothesi-negreira-i-katastasi-einai-polu-sovari-gia-ti-bartselona/\"}"
      ],
      "metadata": {
        "id": "eQ86z9gSIs9W"
      },
      "execution_count": null,
      "outputs": []
    },
    {
      "cell_type": "code",
      "source": [
        "articles.append(article2)\n",
        "\n"
      ],
      "metadata": {
        "id": "1_QIjm_XJ5gk"
      },
      "execution_count": null,
      "outputs": []
    },
    {
      "cell_type": "code",
      "source": [
        "print(articles[1][\"Τίτλος\"])"
      ],
      "metadata": {
        "colab": {
          "base_uri": "https://localhost:8080/"
        },
        "id": "gWfYNWHzLJKH",
        "outputId": "69d05ce4-0d69-472a-8a14-86790b78744e"
      },
      "execution_count": null,
      "outputs": [
        {
          "output_type": "stream",
          "name": "stdout",
          "text": [
            "Τσέφεριν για υπόθεση Νεγκρέιρα: «Η κατάσταση είναι πολύ σοβαρή για τη Μπαρτσελόνα»\n"
          ]
        }
      ]
    },
    {
      "cell_type": "code",
      "source": [
        "article1[\"Site\"]=\"Πρώτο Θέμα\"\n",
        "article2[\"Site\"]=\"Πρώτο Θέμα\"\n"
      ],
      "metadata": {
        "id": "-uijiz6jMGhK"
      },
      "execution_count": null,
      "outputs": []
    },
    {
      "cell_type": "code",
      "source": [
        "for article in articles:\n",
        "  print(article)\n",
        "print(len(articles)) #συμπληρωματικά για να δείξω με αριθμό από πόσα αποτελείται"
      ],
      "metadata": {
        "colab": {
          "base_uri": "https://localhost:8080/"
        },
        "id": "B29GbN_3M_kc",
        "outputId": "f2b3687d-9376-4617-8d6a-ae07ac158386"
      },
      "execution_count": null,
      "outputs": [
        {
          "output_type": "stream",
          "name": "stdout",
          "text": [
            "{'Τίτλος': 'Πόλεμος στην Ουκρανία: Η Πολωνία παρέδωσε στο Κίεβο καταδιωκτικά MiG-29', 'Ημερομηνία': '03/04/2023', 'Κατηγορία': 'Κόσμος', 'url': 'https://www.protothema.gr/world/article/1356769/polemos-stin-oukrania-i-polonia-paredose-sto-kievo-katadioktika-mig-29/', 'Site': 'Πρώτο Θέμα'}\n",
            "{'Τίτλος': 'Τσέφεριν για υπόθεση Νεγκρέιρα: «Η κατάσταση είναι πολύ σοβαρή για τη Μπαρτσελόνα»', 'Ημερομηνία': '03/04/2023', 'Κατηγορία': 'Σπορ', 'url': 'https://www.protothema.gr/sports/article/1356762/tseferin-gia-upothesi-negreira-i-katastasi-einai-polu-sovari-gia-ti-bartselona/', 'Site': 'Πρώτο Θέμα'}\n",
            "2\n"
          ]
        }
      ]
    }
  ]
}