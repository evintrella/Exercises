{
  "cells": [
    {
      "cell_type": "markdown",
      "metadata": {
        "id": "AGAGAw3z6_bZ"
      },
      "source": [
        "#Ασκήσεις του μαθήματος \"Εισαγωγή στην Python 2 - Εντολές ελέγχου: for και if\""
      ]
    },
    {
      "cell_type": "markdown",
      "metadata": {
        "id": "9KIe03Wzq7p3"
      },
      "source": [
        "\n",
        "\n",
        "---\n",
        "\n",
        "####**Άσκηση 1**\n",
        "\n",
        "**Try yourself**: Φτιάξτε ένα νέο κελί κώδικα ακριβώς από κάτω και:\n",
        "\n",
        "* Φτιάξτε μια λίστα με ονόματα 3 αγαπημένων σας ηθοποιών\n",
        "* Φτιάξτε άλλη μια λίστα με το βαθμό (από το 1 έως το 10) που θα τους βάζατε\n",
        "* Φτιάξτε μια λούπα που να τρέχει στη λίστα των ηθποιών και να τυπώνει το όνομα του/της ηθοποιού με το βαθμό του"
      ]
    },
    {
      "cell_type": "code",
      "execution_count": null,
      "metadata": {
        "id": "MfPl553DbYsy"
      },
      "outputs": [],
      "source": [
        "actors=[\"Tom Hardy\", \"Angelina Jolie\", \"Keanu Reeves\"]\n",
        "rating=[\"9\",\"8\",\"10\"]\n"
      ]
    },
    {
      "cell_type": "code",
      "execution_count": null,
      "metadata": {
        "colab": {
          "base_uri": "https://localhost:8080/"
        },
        "id": "dSmXFMhBeOk7",
        "outputId": "f8ac3ffb-af79-42fa-d62d-d6c773b0b2e8"
      },
      "outputs": [
        {
          "output_type": "stream",
          "name": "stdout",
          "text": [
            "Tom Hardy 9\n",
            "Angelina Jolie 8\n",
            "Keanu Reeves 10\n"
          ]
        }
      ],
      "source": [
        "for i in range (0,len(actors)):\n",
        "  print(actors[i],rating[i])"
      ]
    },
    {
      "cell_type": "markdown",
      "metadata": {
        "id": "wJDRIJj4seRf"
      },
      "source": [
        "\n",
        "\n",
        "---\n",
        "\n",
        "####**Άσκηση 2**\n",
        "\n",
        "**Try yourself**: Στο παρακάτω κελί και κάτω από τον υπάρχοντα κώδικα:\n",
        "\n",
        "* φτιάξτε μια for loop που θα τρέχει 22 φορές και\n",
        "* θα φτιάχνει μια μεταβλητή με όνομα c και τιμή το άθροισμα των a και b\n",
        "* θα τυπώνει την τιμή του c\n",
        "* θα αλλάζει την τιμή του a σε b και  \n",
        "* θα αλλάζει την τιμή του b σε c\n",
        "* τρέξτε τον κώδικα\n"
      ]
    },
    {
      "cell_type": "code",
      "execution_count": null,
      "metadata": {
        "colab": {
          "base_uri": "https://localhost:8080/"
        },
        "id": "cM6QC3X0twzD",
        "outputId": "b728b3e7-fdee-400f-c621-42d5a326215e"
      },
      "outputs": [
        {
          "output_type": "stream",
          "name": "stdout",
          "text": [
            "1\n",
            "2\n",
            "3\n",
            "5\n",
            "8\n",
            "13\n",
            "21\n",
            "34\n",
            "55\n",
            "89\n",
            "144\n",
            "233\n",
            "377\n",
            "610\n",
            "987\n",
            "1597\n",
            "2584\n",
            "4181\n",
            "6765\n",
            "10946\n",
            "17711\n",
            "28657\n"
          ]
        }
      ],
      "source": [
        "a = 0\n",
        "b = 1\n",
        "for i in range (0,22):\n",
        "  c=a+b\n",
        "  print(c)\n",
        "  a=b\n",
        "  b=c\n"
      ]
    },
    {
      "cell_type": "markdown",
      "metadata": {
        "id": "s72eW477yQAa"
      },
      "source": [
        "\n",
        "\n",
        "---\n",
        "\n",
        "####**Άσκηση 3**\n",
        "\n",
        "**Try yourself**: Συμπληρώστε το παρακάτω code cell, ακολουθώντας τα σχόλια που περιέχει, έτσι ώστε ο κώδικας:\n",
        "\n",
        "* να φτιάχνει ένα λεξικό με κλειδιά τις πόλεις: Αθήνα, θεσσαλονίκη, Λισαβόνα και τιμές σε όλα το 0\n",
        "* να φτιάχνει μια λίστα με τιμές αριθμούς που δηλώνουν τις θερμοκρασίες της ημέρας σε κάθε πόλη: 19, 17, 21\n",
        "* να περιέχει μια λούπα που θα τρέχει αριθμούς στο εύρος των τιμών που μπορεί να πάρει το index των αντικειμένων της λίστας και\n",
        "  1. θα εκχωρεί το εκάστοτε όνομα του key του λεξικού σε μια μεταβλητή\n",
        "  2. θα θέτει σαν τιμή του εκάστοτε κλειδιού την αντίστοιχη τιμή από τη λίστα των θερμοκρασιών\n",
        "\n",
        "**Tips**:\n",
        "* θα χρησιμοποιηθεί η συνάρτηση list για να μετατραπεί το set των keys() σε λίστα\n",
        "* θα χρησιμοποιηθεί ο αριθμός index για να επιλέγονται τα keys του λεξικού και τα αντικείμενα της λίστας\n"
      ]
    },
    {
      "cell_type": "code",
      "execution_count": null,
      "metadata": {
        "colab": {
          "base_uri": "https://localhost:8080/"
        },
        "id": "Vc3syTaA0KPe",
        "outputId": "e2975282-a890-4244-e92d-e6aa0b86c353"
      },
      "outputs": [
        {
          "output_type": "stream",
          "name": "stdout",
          "text": [
            "{'Athens': 19, 'Thessaloniki': 17, 'Lisboa': 21}\n"
          ]
        }
      ],
      "source": [
        "# φτιάξε ένα λεξικό με κλειδιά τις πόλεις: Αθήνα, θεσσαλονίκη, Λισαβόνα και τιμές σε όλα το 0\n",
        "cities_tempD = {\"Athens\":\"0\",\n",
        "                \"Thessaloniki\":\"0\",\n",
        "                \"Lisboa\":\"0\"}\n",
        "\n",
        "# φτιάξτε μια λίστα με τιμές αριθμούς που δηλώνουν τις θερμοκρασίες της ημέρας σε κάθε πόλη: 19, 17, 21\n",
        "tempL = [19,17,21]\n",
        "\n",
        "# φτιάξτε μια for λούπα που θα τρέχει αριθμούς στο εύρος των τιμών που μπορεί να πάρει το index των αντικειμένων της λίστας temp\n",
        "for temps in range(0,len(tempL)):\n",
        "\n",
        "  # δώσε στη μεταβλητή key την τιμή του κλειδιού του λεξικού που αντιστοιχεί στον τρέχοντα αριθμό index\n",
        "  # μην ξεχάσετε να μετατρέψετε το set των keys σε λίστα - προσοχή στις παρενθέσεις\n",
        "  citiestempB=cities_tempD.values()\n",
        "  citiestempB=list(citiestempB)\n",
        "  key=citiestempB[temps]\n",
        "  citieskeys=cities_tempD.keys()\n",
        "  citieskeys=list(citieskeys)\n",
        "\n",
        "  # δώσε στο τρέχον key του λεξικού την τιμή από τη λίστα των θερμοκρασιών που αντιστοιχεί στον τρέχοντα αριθμό index\n",
        "  key=tempL[temps]\n",
        "  cities_tempD[citieskeys[temps]] =key\n",
        "# τύπωσε το λεξικό(έξω από τη for λούπα - δηλαδή χωρίς intend)\n",
        "print(cities_tempD)\n"
      ]
    },
    {
      "cell_type": "markdown",
      "metadata": {
        "id": "HSPetZqoTPiy"
      },
      "source": [
        "\n",
        "\n",
        "---\n",
        "\n",
        "####**Ασκηση 4**\n",
        "\n",
        "**Try yourself**:\n",
        "\n",
        "Στο κελί κώδικα ακριβώς κάτω από αυτό:\n",
        "\n",
        "* δημιουργήστε μια μεταβλητή με τιμή το όνομά σας και τρέξτε το κελί\n",
        "\n",
        "Φτιάξτε ένα **νέο κελί** (Code cell) από κάτω και:\n",
        "\n",
        "* γράψτε ένα κομμάτι κώδικα το οποίο:\n",
        "  * θα ελέγχει αν η τιμή της μεταβλητής του ονόματος είναι \"Terry\"\n",
        "  * αν είναι, θα τυπώνει στην οθόνη \"Hello Terry!\"\n",
        "  * αν δεν είναι:\n",
        "    * θα τυπώνει \"Wrong user\" και\n",
        "    * θα θέτει στη μεταβλητή του ονόματός σας την τιμή \"Terry\"\n",
        "* πριν τρέξετε το κελί, μαντέψτε τι θα τυπωθεί στην οθόνη\n",
        "* τρέξτε το κελί και συγκρίνετε το αποτέλεσμα με τη μαντεψιά σας\n",
        "* τι θα τυπωθεί αν ξανατρέξετε το κελί;"
      ]
    },
    {
      "cell_type": "code",
      "execution_count": null,
      "metadata": {
        "id": "Kq6yGIKdKKRT"
      },
      "outputs": [],
      "source": [
        "me=\"Paraskevi\""
      ]
    },
    {
      "cell_type": "code",
      "execution_count": null,
      "metadata": {
        "colab": {
          "base_uri": "https://localhost:8080/"
        },
        "id": "NpcymNKTFJG1",
        "outputId": "262e106e-b3d5-406d-c5ba-5384f8417e98"
      },
      "outputs": [
        {
          "output_type": "stream",
          "name": "stdout",
          "text": [
            "Wrong user\n"
          ]
        }
      ],
      "source": [
        "  if me==\"Terry\":\n",
        "    print(\"Hello Terry\")\n",
        "  if me!=\"Terry\":\n",
        "    print(\"Wrong user\")\n",
        "    me=\"Terry\"\n",
        "    #την πρώτη φορά τυπώνει wrong user γιατί έχει την αρχική τιμή της μεταβλητής, αν το ξανατρέξω, τότε έχει διαβάσει την νέα τιμή και δείχνει Hello Terry"
      ]
    },
    {
      "cell_type": "markdown",
      "metadata": {
        "id": "76wOxK3XjOek"
      },
      "source": [
        "* πώς θα κάνετε να ξανατυπώσει \"Wrong user\" χωρίς να γράψετε καθόλου κώδικα; Γράψτε την απάντηση από κάτω σε ένα text cell ή σε ένα code cell σαν comment."
      ]
    },
    {
      "cell_type": "code",
      "execution_count": null,
      "metadata": {
        "id": "3KOxvcA3Itzs"
      },
      "outputs": [],
      "source": [
        "#Θα τρέξω το κελί που περιέχει ως τιμή το όνομά μου και μετά θα ξανατρέξω το δεύτερο κελί"
      ]
    },
    {
      "cell_type": "markdown",
      "metadata": {
        "id": "hedzZ2gBa-6g"
      },
      "source": [
        "\n",
        "\n",
        "---\n",
        "\n",
        "####**Άσκηση 5**"
      ]
    },
    {
      "cell_type": "markdown",
      "metadata": {
        "id": "fmsiDiVgccAP"
      },
      "source": [
        "Έστω ότι έχουμε μια λίστα με φρούτα"
      ]
    },
    {
      "cell_type": "code",
      "execution_count": null,
      "metadata": {
        "id": "cBI43Hg2Z3VD"
      },
      "outputs": [],
      "source": [
        "fruitsL = [\"apples\", \"oranges\", \"strawberries\", \"apricots\"]"
      ]
    },
    {
      "cell_type": "markdown",
      "metadata": {
        "id": "H-rytYULOAY0"
      },
      "source": [
        "και μια λίστα με τους αριθμούς 1 και 10"
      ]
    },
    {
      "cell_type": "code",
      "execution_count": null,
      "metadata": {
        "id": "EFDfTEhtOHKK"
      },
      "outputs": [],
      "source": [
        "countsL = [1, 10]"
      ]
    },
    {
      "cell_type": "markdown",
      "metadata": {
        "id": "RLB0fP0gczIt"
      },
      "source": [
        "Γράψτε έναν κώδικα που θα λουπάρει σε όλα τα φρούτα της λίστας και σε όλους τους αριθμούς της countL και θα τυπώνει το μήνυμα: We've got <αριθμός> <φρούτο>\n",
        "\n",
        "**Tip**: χρησιμοποιήστε nested for loops (μια for loop μέσα σε μια άλλη for loop)"
      ]
    },
    {
      "cell_type": "code",
      "execution_count": null,
      "metadata": {
        "colab": {
          "base_uri": "https://localhost:8080/"
        },
        "id": "urHIQr5VdQXb",
        "outputId": "206d67d7-1b4d-408c-8850-b55f41ab6338"
      },
      "outputs": [
        {
          "output_type": "stream",
          "name": "stdout",
          "text": [
            "We've got 1 apples\n",
            "We've got 10 apples\n",
            "We've got 1 oranges\n",
            "We've got 10 oranges\n",
            "We've got 1 strawberries\n",
            "We've got 10 strawberries\n",
            "We've got 1 apricots\n",
            "We've got 10 apricots\n"
          ]
        }
      ],
      "source": [
        "for fruit in fruitsL:\n",
        "  for count in countsL:\n",
        "    print(\"We've got\", count,fruit)\n"
      ]
    },
    {
      "cell_type": "markdown",
      "metadata": {
        "id": "666ViCUydhZC"
      },
      "source": [
        "Όλα καλά, αλλά υπάρχει ένα γραμματικό λάθος. Στον ενικό, τα φρούτα δεν πρέπει να έχουν \"s\" στο τέλος."
      ]
    },
    {
      "cell_type": "markdown",
      "metadata": {
        "id": "gOZ3V13gd_CJ"
      },
      "source": [
        "Ξέρουμε ήδη ότι ένα string είναι λίστα. Επομένως μπορούμε χρησιμοποιώντας το slicing να πάρουμε τα ονόματα των φρούτων στον ενικό αφαιρώντας το \"s\" που είναι στο τέλος."
      ]
    },
    {
      "cell_type": "code",
      "execution_count": null,
      "metadata": {
        "colab": {
          "base_uri": "https://localhost:8080/",
          "height": 36
        },
        "id": "CfYY5HAie8gY",
        "outputId": "a34d20e0-ed82-4a89-b85e-b96027e08cc1"
      },
      "outputs": [
        {
          "output_type": "execute_result",
          "data": {
            "text/plain": [
              "'apple'"
            ],
            "application/vnd.google.colaboratory.intrinsic+json": {
              "type": "string"
            }
          },
          "metadata": {},
          "execution_count": 170
        }
      ],
      "source": [
        "fruitsL[0][:-1]   # καλούμε το πρώτο όνομα της λίστας και από αυτό κρατάμε τα γράμματα από την αρχή έως το προτελευταίο"
      ]
    },
    {
      "cell_type": "markdown",
      "metadata": {
        "id": "ZO7tnWeZfm5D"
      },
      "source": [
        "Πολύ ωραία! Στο επόμενο cell, εφαρμόστε το slicing στη λούπα που γράψατε παραπάνω και τρέξτε το."
      ]
    },
    {
      "cell_type": "code",
      "execution_count": null,
      "metadata": {
        "colab": {
          "base_uri": "https://localhost:8080/"
        },
        "id": "t7OHtmn8gGYH",
        "outputId": "c9dc43d0-e589-47aa-ad9f-3d4a4f394bad"
      },
      "outputs": [
        {
          "output_type": "stream",
          "name": "stdout",
          "text": [
            "apple\n",
            "orange\n",
            "strawberrie\n",
            "apricot\n"
          ]
        }
      ],
      "source": [
        "for fruit in fruitsL:\n",
        "  print(fruit[:-1])\n"
      ]
    },
    {
      "cell_type": "markdown",
      "metadata": {
        "id": "D333sJzwWz0p"
      },
      "source": [
        "Ωραία, αλλά τώρα έφυγε το \"s\" και από τον πληθυντικό. Προσθέστε στον κώδικα ένα if (μέσα στη δεύτερη for loop) για να ελέγξετε το πότε θα αφαιρείται το \"s\" και πότε θα παραμένει.\n",
        "\n",
        "**Tip**: Πολλές φορές, όταν υπάρχει μια σχετική πολυπλοκότητα, επειδή αν αρχίσουμε να γράφουμε υπάρχει ο σοβαρότατος κίνδυνος να μας σπάσουν τα νεύρα, βοηθάει να γράψουμε πρώτα έναν \"ψευτοκώδικα\" για να ξεκαθαρίσουμε τι πρέπει να γίνει:\n",
        "\n",
        "```\n",
        "Για κάθε φρούτο στη fruitsL:\n",
        "  Για κάθε αριθμό στην countsL:\n",
        "    Αν ο αριθμός είναι ίσος με 1:\n",
        "      σωστό_φρούτο = <φρούτο από τη λίστα χωρίς \"s\">\n",
        "      τύπωσε(έχουμε <αριθμός> <σωστό_φρούτο>)\n",
        "    Αλλιώς:\n",
        "      τύπωσε(έχουμε <αριθμός> <φρούτο από τη λίστα>)\n",
        "```"
      ]
    },
    {
      "cell_type": "code",
      "execution_count": null,
      "metadata": {
        "colab": {
          "base_uri": "https://localhost:8080/"
        },
        "id": "Itb_lvw7XfGb",
        "outputId": "36fe20cc-6d65-4f59-f1ab-816e98191899"
      },
      "outputs": [
        {
          "output_type": "stream",
          "name": "stdout",
          "text": [
            "We've got 1 apple\n",
            "We've got 10 apples\n",
            "We've got 1 orange\n",
            "We've got 10 oranges\n",
            "We've got 1 strawberrie\n",
            "We've got 10 strawberries\n",
            "We've got 1 apricot\n",
            "We've got 10 apricots\n"
          ]
        }
      ],
      "source": [
        "for fruit in fruitsL:\n",
        "  for count in countsL:\n",
        "    if count==1:\n",
        "      okfruit=fruit[:-1]\n",
        "      print(\"We've got\",count,okfruit)\n",
        "    else:\n",
        "      print(\"We've got\",count,fruit)"
      ]
    },
    {
      "cell_type": "markdown",
      "metadata": {
        "id": "gEgSD4T8gR9J"
      },
      "source": [
        "Ωραία, αλλά και πάλι, το strawberrie δεν είναι σωστό.\n",
        "\n",
        "Αντιγράψτε τον κώδικα και προσθέστε μια εντολή if, η οποία θα ελέγχει αν το τρίτο γράμμα από το τέλος του εκάστοτε ονόματος στη λίστα των φρούτων είναι \"i\" (strawberr**i**es). Αν είναι, τότε θα αντικαθιστά (replace) ό,τι πρέπει να αντικατασταθεί όταν τυπώνει το όνομα.\n",
        "\n",
        "**Help**: o ψευτοκώδικας θα ήταν κάπως έτσι:\n",
        "\n",
        "```\n",
        "Για κάθε φρούτο στη fruitsL:\n",
        "  Για κάθε αριθμό στην countsL:\n",
        "    Αν ο αριθμός είναι ίσος με 1:\n",
        "      Αν <το 3ο γράμμα απ' το τέλος στο όνομα του φρούτου> είναι \"i\":\n",
        "        σωστό_όνομα = <φρούτο απ'τη λίστα με αντικατάσταση της κατάληξης τάδε με τάδε>\n",
        "        τύπωσε(έχουμε <αριθμός> <σωστό όνομα>)\n",
        "      Αλλιώς:\n",
        "        τύπωσε(έχουμε <αριθμός> <φρούτο από τη λίστα χωρίς \"s\">)\n",
        "    Αλλιώς:\n",
        "      τύπωσε(έχουμε <αριθμός> <φρούτο από τη λίστα)\n",
        "```"
      ]
    },
    {
      "cell_type": "code",
      "execution_count": null,
      "metadata": {
        "colab": {
          "base_uri": "https://localhost:8080/"
        },
        "id": "VcUhUTNDhBHs",
        "outputId": "297ffeea-49ef-41ac-c209-b997460d839e"
      },
      "outputs": [
        {
          "output_type": "stream",
          "name": "stdout",
          "text": [
            "We've got 1 apple\n",
            "We've got 10 apples\n",
            "We've got 1 orange\n",
            "We've got 10 oranges\n",
            "We've got 1 strawberry\n",
            "We've got 10 strawberries\n",
            "We've got 1 apricot\n",
            "We've got 10 apricots\n"
          ]
        }
      ],
      "source": [
        "for fruit in fruitsL:\n",
        "  for count in countsL:\n",
        "    if count==1:\n",
        "      if fruit[-3]==\"i\":\n",
        "        stfruit=fruit.replace(\"i\",\"y\")\n",
        "        stfruit=stfruit[:-2]\n",
        "        print(\"We've got\",count,stfruit)\n",
        "\n",
        "      elif count==1:\n",
        "        okfruit=fruit[:-1]\n",
        "        print(\"We've got\",count,okfruit)\n",
        "\n",
        "    else:\n",
        "        print(\"We've got\",count,fruit)\n",
        "\n"
      ]
    }
  ],
  "metadata": {
    "colab": {
      "provenance": []
    },
    "kernelspec": {
      "display_name": "Python 3",
      "name": "python3"
    },
    "language_info": {
      "name": "python"
    }
  },
  "nbformat": 4,
  "nbformat_minor": 0
}